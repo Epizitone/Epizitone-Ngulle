{
 "cells": [
  {
   "cell_type": "code",
   "execution_count": 13,
   "id": "facfb5f9",
   "metadata": {},
   "outputs": [],
   "source": [
    "#Importing the necessary libraries\n",
    "import pandas as pd\n",
    "import requests\n",
    "from bs4 import BeautifulSoup\n"
   ]
  },
  {
   "cell_type": "code",
   "execution_count": 10,
   "id": "289e848c",
   "metadata": {},
   "outputs": [],
   "source": [
    "books = []\n",
    "for i in range(1,51):\n",
    "  url = f\"https://books.toscrape.com/catalogue/page-{i}.html\"\n",
    "  response = requests.get(url)\n",
    "  response = response.content\n",
    "  soup=BeautifulSoup(response,'html.parser')\n",
    "  ol = soup.find('ol')\n",
    "  articles = soup.find_all('article',class_='product_pod')\n",
    "\n",
    "for article in articles:\n",
    "  image =article.find('img')\n",
    "  title = image.attrs['alt']\n",
    "  star =article.find('p')\n",
    "  star = star['class'][1]\n",
    "  price = article.find('p', class_='price_color').text\n",
    "  price = float(price[1:])\n",
    "  books.append([title, price, star])"
   ]
  },
  {
   "cell_type": "code",
   "execution_count": 11,
   "id": "1673153b",
   "metadata": {},
   "outputs": [],
   "source": [
    "df = pd.DataFrame(books,columns=['Title','Price','Star Rating'])\n"
   ]
  },
  {
   "cell_type": "code",
   "execution_count": 14,
   "id": "4bfdbce5",
   "metadata": {},
   "outputs": [
    {
     "data": {
      "text/html": [
       "<div>\n",
       "<style scoped>\n",
       "    .dataframe tbody tr th:only-of-type {\n",
       "        vertical-align: middle;\n",
       "    }\n",
       "\n",
       "    .dataframe tbody tr th {\n",
       "        vertical-align: top;\n",
       "    }\n",
       "\n",
       "    .dataframe thead th {\n",
       "        text-align: right;\n",
       "    }\n",
       "</style>\n",
       "<table border=\"1\" class=\"dataframe\">\n",
       "  <thead>\n",
       "    <tr style=\"text-align: right;\">\n",
       "      <th></th>\n",
       "      <th>Title</th>\n",
       "      <th>Price</th>\n",
       "      <th>Star Rating</th>\n",
       "    </tr>\n",
       "  </thead>\n",
       "  <tbody>\n",
       "    <tr>\n",
       "      <th>0</th>\n",
       "      <td>Frankenstein</td>\n",
       "      <td>38.00</td>\n",
       "      <td>Two</td>\n",
       "    </tr>\n",
       "    <tr>\n",
       "      <th>1</th>\n",
       "      <td>Forever Rockers (The Rocker #12)</td>\n",
       "      <td>28.80</td>\n",
       "      <td>Three</td>\n",
       "    </tr>\n",
       "    <tr>\n",
       "      <th>2</th>\n",
       "      <td>Fighting Fate (Fighting #6)</td>\n",
       "      <td>39.24</td>\n",
       "      <td>Three</td>\n",
       "    </tr>\n",
       "    <tr>\n",
       "      <th>3</th>\n",
       "      <td>Emma</td>\n",
       "      <td>32.93</td>\n",
       "      <td>Two</td>\n",
       "    </tr>\n",
       "    <tr>\n",
       "      <th>4</th>\n",
       "      <td>Eat, Pray, Love</td>\n",
       "      <td>51.32</td>\n",
       "      <td>Three</td>\n",
       "    </tr>\n",
       "  </tbody>\n",
       "</table>\n",
       "</div>"
      ],
      "text/plain": [
       "                              Title  Price Star Rating\n",
       "0                      Frankenstein  38.00         Two\n",
       "1  Forever Rockers (The Rocker #12)  28.80       Three\n",
       "2       Fighting Fate (Fighting #6)  39.24       Three\n",
       "3                              Emma  32.93         Two\n",
       "4                   Eat, Pray, Love  51.32       Three"
      ]
     },
     "execution_count": 14,
     "metadata": {},
     "output_type": "execute_result"
    }
   ],
   "source": [
    "#checking the first few rows of our dataset\n",
    "df.head()"
   ]
  },
  {
   "cell_type": "code",
   "execution_count": 12,
   "id": "f24724dd",
   "metadata": {},
   "outputs": [],
   "source": [
    "#Converting the dat \n",
    "df.to_csv('book.csv')"
   ]
  },
  {
   "cell_type": "code",
   "execution_count": null,
   "id": "06dab49a",
   "metadata": {},
   "outputs": [],
   "source": []
  }
 ],
 "metadata": {
  "kernelspec": {
   "display_name": "Python 3 (ipykernel)",
   "language": "python",
   "name": "python3"
  },
  "language_info": {
   "codemirror_mode": {
    "name": "ipython",
    "version": 3
   },
   "file_extension": ".py",
   "mimetype": "text/x-python",
   "name": "python",
   "nbconvert_exporter": "python",
   "pygments_lexer": "ipython3",
   "version": "3.8.13"
  }
 },
 "nbformat": 4,
 "nbformat_minor": 5
}
